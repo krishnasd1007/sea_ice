{
  "nbformat": 4,
  "nbformat_minor": 0,
  "metadata": {
    "colab": {
      "name": "seaiceknn.ipynb",
      "provenance": [],
      "collapsed_sections": [
        "_cgU51nP4-Rp",
        "c1cDMtMZwQX_"
      ],
      "include_colab_link": true
    },
    "kernelspec": {
      "display_name": "Python 3",
      "name": "python3"
    }
  },
  "cells": [
    {
      "cell_type": "markdown",
      "metadata": {
        "id": "view-in-github",
        "colab_type": "text"
      },
      "source": [
        "<a href=\"https://colab.research.google.com/github/krishnasd1007/sea_ice/blob/main/seaiceknn.ipynb\" target=\"_parent\"><img src=\"https://colab.research.google.com/assets/colab-badge.svg\" alt=\"Open In Colab\"/></a>"
      ]
    },
    {
      "cell_type": "code",
      "metadata": {
        "colab": {
          "base_uri": "https://localhost:8080/"
        },
        "id": "TojxFDC_wTH-",
        "outputId": "de3db082-2798-41f7-a4fe-901e8042f81a"
      },
      "source": [
        "from google.colab import drive\r\n",
        "drive.mount('/gdrive')"
      ],
      "execution_count": 1,
      "outputs": [
        {
          "output_type": "stream",
          "text": [
            "Mounted at /gdrive\n"
          ],
          "name": "stdout"
        }
      ]
    },
    {
      "cell_type": "markdown",
      "metadata": {
        "id": "_cgU51nP4-Rp"
      },
      "source": [
        "# **DataEngineering**"
      ]
    },
    {
      "cell_type": "code",
      "metadata": {
        "colab": {
          "base_uri": "https://localhost:8080/",
          "height": 110
        },
        "id": "8ADqdONnwa4D",
        "outputId": "9a464d7b-fac9-44b9-9010-1f3bd9389939"
      },
      "source": [
        "import numpy as np\r\n",
        "import matplotlib.pyplot as plt\r\n",
        "import pandas as pd\r\n",
        "\r\n",
        "path = '/gdrive/My Drive/sea_ice/'\r\n",
        "data = pd.read_csv(path + 'DRIFT_DATA_TRAIN.csv')\r\n",
        "\r\n",
        "data['Ui'] = np.sqrt((data['u_buoy']*data['u_buoy'])+(data['v_buoy']*data['v_buoy']))\r\n",
        "data['Uw'] = np.sqrt((data['x_EASE']*data['x_EASE'])+(data['y_EASE']*data['y_EASE']))\r\n",
        "data['Ua'] = np.sqrt((data['u_ERA5']*data['u_ERA5'])+(data['v_ERA5']*data['v_ERA5']))\r\n",
        "#data['Uiwx'] = data['u_buoy'] - data['x_EASE']\r\n",
        "#data['Uiwy'] = data['v_buoy'] - data['y_EASE']\r\n",
        "#data['Uiw'] = np.sqrt((data['Uiwx']*data['Uiwx'])+(data['Uiwy']*data['Uiwy']))\r\n",
        "#data['dot'] = (data['u_buoy']*data['Uiwx']) + (data['v_buoy']+data['Uiwy'])\r\n",
        "#data['denom'] = data['Ua'] * data['Uiw']\r\n",
        "#data['th'] = data['dot'] / data['denom']\r\n",
        "#data['th'] = (2*(data['th'] - data['th'].min()) / (data['th'].max() - data['th'].min())) - 1 \r\n",
        "#data['theta'] = (np.arccos(data['th'])) * (180/np.pi)\r\n",
        "data = data.drop(columns=['year','month','day','doy','h_cs2smos','id_buoy','u_buoy','v_buoy'])\r\n",
        "data.head(2)"
      ],
      "execution_count": 3,
      "outputs": [
        {
          "output_type": "execute_result",
          "data": {
            "text/html": [
              "<div>\n",
              "<style scoped>\n",
              "    .dataframe tbody tr th:only-of-type {\n",
              "        vertical-align: middle;\n",
              "    }\n",
              "\n",
              "    .dataframe tbody tr th {\n",
              "        vertical-align: top;\n",
              "    }\n",
              "\n",
              "    .dataframe thead th {\n",
              "        text-align: right;\n",
              "    }\n",
              "</style>\n",
              "<table border=\"1\" class=\"dataframe\">\n",
              "  <thead>\n",
              "    <tr style=\"text-align: right;\">\n",
              "      <th></th>\n",
              "      <th>x_EASE</th>\n",
              "      <th>y_EASE</th>\n",
              "      <th>u_ERA5</th>\n",
              "      <th>v_ERA5</th>\n",
              "      <th>sic_CDR</th>\n",
              "      <th>h_piomas</th>\n",
              "      <th>d2c</th>\n",
              "      <th>Ui</th>\n",
              "      <th>Uw</th>\n",
              "      <th>Ua</th>\n",
              "    </tr>\n",
              "  </thead>\n",
              "  <tbody>\n",
              "    <tr>\n",
              "      <th>0</th>\n",
              "      <td>147.506958</td>\n",
              "      <td>138.582672</td>\n",
              "      <td>-6.704156</td>\n",
              "      <td>-0.321260</td>\n",
              "      <td>0.990195</td>\n",
              "      <td>3.189743</td>\n",
              "      <td>522.523298</td>\n",
              "      <td>1.370671</td>\n",
              "      <td>202.394317</td>\n",
              "      <td>6.711849</td>\n",
              "    </tr>\n",
              "    <tr>\n",
              "      <th>1</th>\n",
              "      <td>146.834778</td>\n",
              "      <td>120.509880</td>\n",
              "      <td>-6.818630</td>\n",
              "      <td>-0.674205</td>\n",
              "      <td>0.966372</td>\n",
              "      <td>2.484009</td>\n",
              "      <td>412.767669</td>\n",
              "      <td>0.741408</td>\n",
              "      <td>189.955477</td>\n",
              "      <td>6.851881</td>\n",
              "    </tr>\n",
              "  </tbody>\n",
              "</table>\n",
              "</div>"
            ],
            "text/plain": [
              "       x_EASE      y_EASE    u_ERA5  ...        Ui          Uw        Ua\n",
              "0  147.506958  138.582672 -6.704156  ...  1.370671  202.394317  6.711849\n",
              "1  146.834778  120.509880 -6.818630  ...  0.741408  189.955477  6.851881\n",
              "\n",
              "[2 rows x 10 columns]"
            ]
          },
          "metadata": {
            "tags": []
          },
          "execution_count": 3
        }
      ]
    },
    {
      "cell_type": "code",
      "metadata": {
        "colab": {
          "base_uri": "https://localhost:8080/"
        },
        "id": "IIu-u2c2ZTi8",
        "outputId": "052b1cc5-5013-42ea-a4fe-3fa00ee106d1"
      },
      "source": [
        "data.isnull().sum(axis = 0)"
      ],
      "execution_count": 4,
      "outputs": [
        {
          "output_type": "execute_result",
          "data": {
            "text/plain": [
              "x_EASE      0\n",
              "y_EASE      0\n",
              "u_ERA5      0\n",
              "v_ERA5      0\n",
              "sic_CDR     0\n",
              "h_piomas    0\n",
              "d2c         0\n",
              "Ui          0\n",
              "Uw          0\n",
              "Ua          0\n",
              "dtype: int64"
            ]
          },
          "metadata": {
            "tags": []
          },
          "execution_count": 4
        }
      ]
    },
    {
      "cell_type": "markdown",
      "metadata": {
        "id": "cnPClws45EUy"
      },
      "source": [
        "# **Model for speed**"
      ]
    },
    {
      "cell_type": "code",
      "metadata": {
        "id": "tx6whOnDKRi_"
      },
      "source": [
        "x = data.drop(columns = ['Ui'])\r\n",
        "y = data['Ui']"
      ],
      "execution_count": 5,
      "outputs": []
    },
    {
      "cell_type": "code",
      "metadata": {
        "id": "E6wRLIhFGaqh"
      },
      "source": [
        "from sklearn.preprocessing import MinMaxScaler\r\n",
        "scaler = MinMaxScaler(feature_range=(0, 1))\r\n",
        "\r\n",
        "x = scaler.fit_transform(x)\r\n",
        "x = pd.DataFrame(x)"
      ],
      "execution_count": 6,
      "outputs": []
    },
    {
      "cell_type": "code",
      "metadata": {
        "colab": {
          "base_uri": "https://localhost:8080/"
        },
        "id": "_qYPlDClxTnA",
        "outputId": "09a4b311-082c-4b05-e30a-0441fd75cbaf"
      },
      "source": [
        "from sklearn.neighbors import KNeighborsRegressor\r\n",
        "\r\n",
        "model_speed = KNeighborsRegressor(n_neighbors=2)\r\n",
        "\r\n",
        "model_speed.fit(x,y)"
      ],
      "execution_count": 7,
      "outputs": [
        {
          "output_type": "execute_result",
          "data": {
            "text/plain": [
              "KNeighborsRegressor(algorithm='auto', leaf_size=30, metric='minkowski',\n",
              "                    metric_params=None, n_jobs=None, n_neighbors=2, p=2,\n",
              "                    weights='uniform')"
            ]
          },
          "metadata": {
            "tags": []
          },
          "execution_count": 7
        }
      ]
    },
    {
      "cell_type": "code",
      "metadata": {
        "colab": {
          "base_uri": "https://localhost:8080/"
        },
        "id": "Ip6_whMMZudK",
        "outputId": "5b174a63-389f-4020-c516-65fa1250876f"
      },
      "source": [
        "from sklearn.metrics import mean_squared_error \r\n",
        "\r\n",
        "pred_y = model_speed.predict(x)\r\n",
        "mse =mean_squared_error(y, pred_y)\r\n",
        "me = np.mean(pred_y - y)\r\n",
        "print(\"Mean Error:\",me)\r\n",
        "print(\"Mean Squared Error:\",mse)"
      ],
      "execution_count": 8,
      "outputs": [
        {
          "output_type": "stream",
          "text": [
            "Mean Error: -0.07445523565285318\n",
            "Mean Squared Error: 7.110207604500074\n"
          ],
          "name": "stdout"
        }
      ]
    },
    {
      "cell_type": "code",
      "metadata": {
        "colab": {
          "base_uri": "https://localhost:8080/"
        },
        "id": "UBxf_qipacjJ",
        "outputId": "ec6790cb-624b-4c03-90e7-57d9bb089cac"
      },
      "source": [
        "rmse = np.sqrt(mse)\r\n",
        "print(\"Root Mean Squared Error:\", rmse)"
      ],
      "execution_count": 9,
      "outputs": [
        {
          "output_type": "stream",
          "text": [
            "Root Mean Squared Error: 2.666497253795712\n"
          ],
          "name": "stdout"
        }
      ]
    },
    {
      "cell_type": "markdown",
      "metadata": {
        "id": "c1cDMtMZwQX_"
      },
      "source": [
        "#**Test set prediction**"
      ]
    },
    {
      "cell_type": "code",
      "metadata": {
        "id": "IR1Ed9RARKOk"
      },
      "source": [
        "datatest = pd.read_csv(path + 'DRIFT_DATA_TEST_hackathon.csv')\r\n",
        "\r\n",
        "datatest['Uw'] = np.sqrt((datatest['x_EASE']*datatest['x_EASE'])+(datatest['y_EASE']*datatest['y_EASE']))\r\n",
        "datatest['Ua'] = np.sqrt((datatest['u_ERA5']*datatest['u_ERA5'])+(datatest['v_ERA5']*datatest['v_ERA5']))\r\n",
        "datatest['Ui'] = np.sqrt((datatest['u_buoy']*datatest['u_buoy'])+(datatest['v_buoy']*datatest['v_buoy']))\r\n",
        "\r\n",
        "datatest = datatest.drop(columns=['year','month','day','doy','h_cs2smos','id_buoy','u_buoy','v_buoy'])"
      ],
      "execution_count": 10,
      "outputs": []
    },
    {
      "cell_type": "code",
      "metadata": {
        "id": "J28nTxZmwyqP"
      },
      "source": [
        "x = datatest.drop(columns=['Ui'])\r\n",
        "y = datatest['Ui']"
      ],
      "execution_count": 11,
      "outputs": []
    },
    {
      "cell_type": "code",
      "metadata": {
        "id": "NMuG9oemyBu8",
        "colab": {
          "base_uri": "https://localhost:8080/"
        },
        "outputId": "b17437ef-c89f-4d3c-85d7-c74a3cc438a8"
      },
      "source": [
        "from sklearn.neighbors import KNeighborsRegressor\r\n",
        "\r\n",
        "model_speed = KNeighborsRegressor(n_neighbors=2)\r\n",
        "\r\n",
        "model_speed.fit(x,y)"
      ],
      "execution_count": 12,
      "outputs": [
        {
          "output_type": "execute_result",
          "data": {
            "text/plain": [
              "KNeighborsRegressor(algorithm='auto', leaf_size=30, metric='minkowski',\n",
              "                    metric_params=None, n_jobs=None, n_neighbors=2, p=2,\n",
              "                    weights='uniform')"
            ]
          },
          "metadata": {
            "tags": []
          },
          "execution_count": 12
        }
      ]
    },
    {
      "cell_type": "code",
      "metadata": {
        "id": "VA10QRub0zd2",
        "colab": {
          "base_uri": "https://localhost:8080/"
        },
        "outputId": "419eab68-6e61-4e70-f0f6-cee690143d87"
      },
      "source": [
        "from sklearn.metrics import mean_squared_error \r\n",
        "\r\n",
        "pred_y = model_speed.predict(x)\r\n",
        "mse =mean_squared_error(y, pred_y)\r\n",
        "me = np.mean(pred_y - y)\r\n",
        "print(\"Mean Error:\",me)\r\n",
        "print(\"Mean Squared Error:\",mse)"
      ],
      "execution_count": 13,
      "outputs": [
        {
          "output_type": "stream",
          "text": [
            "Mean Error: -0.34033835206706053\n",
            "Mean Squared Error: 10.838290612447924\n"
          ],
          "name": "stdout"
        }
      ]
    },
    {
      "cell_type": "code",
      "metadata": {
        "colab": {
          "base_uri": "https://localhost:8080/"
        },
        "id": "PEbnMfAE4qyR",
        "outputId": "4970f94e-32d6-4285-d91f-ff7e59a019dd"
      },
      "source": [
        "rmse = np.sqrt(mse)\r\n",
        "print(\"Root Mean Squared Error:\", rmse)"
      ],
      "execution_count": 14,
      "outputs": [
        {
          "output_type": "stream",
          "text": [
            "Root Mean Squared Error: 3.292155921648901\n"
          ],
          "name": "stdout"
        }
      ]
    }
  ]
}