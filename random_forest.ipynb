{
  "nbformat": 4,
  "nbformat_minor": 0,
  "metadata": {
    "colab": {
      "name": "random_forest.ipynb",
      "provenance": [],
      "collapsed_sections": [
        "_cgU51nP4-Rp",
        "cnPClws45EUy",
        "c1cDMtMZwQX_"
      ],
      "include_colab_link": true
    },
    "kernelspec": {
      "display_name": "Python 3",
      "name": "python3"
    }
  },
  "cells": [
    {
      "cell_type": "markdown",
      "metadata": {
        "id": "view-in-github",
        "colab_type": "text"
      },
      "source": [
        "<a href=\"https://colab.research.google.com/github/krishnasd1007/sea_ice/blob/main/random_forest.ipynb\" target=\"_parent\"><img src=\"https://colab.research.google.com/assets/colab-badge.svg\" alt=\"Open In Colab\"/></a>"
      ]
    },
    {
      "cell_type": "code",
      "metadata": {
        "colab": {
          "base_uri": "https://localhost:8080/"
        },
        "id": "TojxFDC_wTH-",
        "outputId": "ccae16ef-5739-4f6f-e69f-228a33e1f852"
      },
      "source": [
        "from google.colab import drive\r\n",
        "drive.mount('/gdrive')"
      ],
      "execution_count": 22,
      "outputs": [
        {
          "output_type": "stream",
          "text": [
            "Drive already mounted at /gdrive; to attempt to forcibly remount, call drive.mount(\"/gdrive\", force_remount=True).\n"
          ],
          "name": "stdout"
        }
      ]
    },
    {
      "cell_type": "markdown",
      "metadata": {
        "id": "_cgU51nP4-Rp"
      },
      "source": [
        "# **DataEngineering**"
      ]
    },
    {
      "cell_type": "code",
      "metadata": {
        "colab": {
          "base_uri": "https://localhost:8080/",
          "height": 110
        },
        "id": "8ADqdONnwa4D",
        "outputId": "89c147c2-ebdb-449f-9d6a-29a621675bda"
      },
      "source": [
        "import numpy as np\r\n",
        "import matplotlib.pyplot as plt\r\n",
        "import pandas as pd\r\n",
        "\r\n",
        "path = '/gdrive/My Drive/sea_ice/'\r\n",
        "data = pd.read_csv(path + 'DRIFT_DATA_TRAIN.csv')\r\n",
        "\r\n",
        "data['Ui'] = np.sqrt((data['u_buoy']*data['u_buoy'])+(data['v_buoy']*data['v_buoy']))\r\n",
        "#data['Uw'] = np.sqrt((data['x_EASE']*data['x_EASE'])+(data['y_EASE']*data['y_EASE']))\r\n",
        "data['Ua'] = np.sqrt((data['u_ERA5']*data['u_ERA5'])+(data['v_ERA5']*data['v_ERA5']))\r\n",
        "#data['Uiwx'] = data['u_buoy'] - data['x_EASE']\r\n",
        "#data['Uiwy'] = data['v_buoy'] - data['y_EASE']\r\n",
        "#data['Uiw'] = np.sqrt((data['Uiwx']*data['Uiwx'])+(data['Uiwy']*data['Uiwy']))\r\n",
        "#data['dot'] = (data['u_buoy']*data['Uiwx']) + (data['v_buoy']+data['Uiwy'])\r\n",
        "#data['denom'] = data['Ua'] * data['Uiw']\r\n",
        "#data['th'] = data['dot'] / data['denom']\r\n",
        "#data['th'] = (data['th'] - data['th'].min()) / (data['th'].max() - data['th'].min()) \r\n",
        "#data['theta'] = (np.arccos(data['th'])) * (180/np.pi)\r\n",
        "data = data.drop(columns=['year','month','day','doy','h_cs2smos','id_buoy','u_buoy','v_buoy'])\r\n",
        "data.head(2)"
      ],
      "execution_count": 23,
      "outputs": [
        {
          "output_type": "execute_result",
          "data": {
            "text/html": [
              "<div>\n",
              "<style scoped>\n",
              "    .dataframe tbody tr th:only-of-type {\n",
              "        vertical-align: middle;\n",
              "    }\n",
              "\n",
              "    .dataframe tbody tr th {\n",
              "        vertical-align: top;\n",
              "    }\n",
              "\n",
              "    .dataframe thead th {\n",
              "        text-align: right;\n",
              "    }\n",
              "</style>\n",
              "<table border=\"1\" class=\"dataframe\">\n",
              "  <thead>\n",
              "    <tr style=\"text-align: right;\">\n",
              "      <th></th>\n",
              "      <th>x_EASE</th>\n",
              "      <th>y_EASE</th>\n",
              "      <th>u_ERA5</th>\n",
              "      <th>v_ERA5</th>\n",
              "      <th>sic_CDR</th>\n",
              "      <th>h_piomas</th>\n",
              "      <th>d2c</th>\n",
              "      <th>Ui</th>\n",
              "      <th>Ua</th>\n",
              "    </tr>\n",
              "  </thead>\n",
              "  <tbody>\n",
              "    <tr>\n",
              "      <th>0</th>\n",
              "      <td>147.506958</td>\n",
              "      <td>138.582672</td>\n",
              "      <td>-6.704156</td>\n",
              "      <td>-0.321260</td>\n",
              "      <td>0.990195</td>\n",
              "      <td>3.189743</td>\n",
              "      <td>522.523298</td>\n",
              "      <td>1.370671</td>\n",
              "      <td>6.711849</td>\n",
              "    </tr>\n",
              "    <tr>\n",
              "      <th>1</th>\n",
              "      <td>146.834778</td>\n",
              "      <td>120.509880</td>\n",
              "      <td>-6.818630</td>\n",
              "      <td>-0.674205</td>\n",
              "      <td>0.966372</td>\n",
              "      <td>2.484009</td>\n",
              "      <td>412.767669</td>\n",
              "      <td>0.741408</td>\n",
              "      <td>6.851881</td>\n",
              "    </tr>\n",
              "  </tbody>\n",
              "</table>\n",
              "</div>"
            ],
            "text/plain": [
              "       x_EASE      y_EASE    u_ERA5  ...         d2c        Ui        Ua\n",
              "0  147.506958  138.582672 -6.704156  ...  522.523298  1.370671  6.711849\n",
              "1  146.834778  120.509880 -6.818630  ...  412.767669  0.741408  6.851881\n",
              "\n",
              "[2 rows x 9 columns]"
            ]
          },
          "metadata": {
            "tags": []
          },
          "execution_count": 23
        }
      ]
    },
    {
      "cell_type": "code",
      "metadata": {
        "colab": {
          "base_uri": "https://localhost:8080/"
        },
        "id": "IIu-u2c2ZTi8",
        "outputId": "25509db4-b089-4bc7-a833-ff35bcb11a73"
      },
      "source": [
        "data.isnull().sum(axis = 0)"
      ],
      "execution_count": 24,
      "outputs": [
        {
          "output_type": "execute_result",
          "data": {
            "text/plain": [
              "x_EASE      0\n",
              "y_EASE      0\n",
              "u_ERA5      0\n",
              "v_ERA5      0\n",
              "sic_CDR     0\n",
              "h_piomas    0\n",
              "d2c         0\n",
              "Ui          0\n",
              "Ua          0\n",
              "dtype: int64"
            ]
          },
          "metadata": {
            "tags": []
          },
          "execution_count": 24
        }
      ]
    },
    {
      "cell_type": "markdown",
      "metadata": {
        "id": "cnPClws45EUy"
      },
      "source": [
        "# **Model for speed**"
      ]
    },
    {
      "cell_type": "code",
      "metadata": {
        "id": "tx6whOnDKRi_"
      },
      "source": [
        "x = data.drop(columns = ['Ui'])\r\n",
        "y = data['Ui']"
      ],
      "execution_count": 25,
      "outputs": []
    },
    {
      "cell_type": "code",
      "metadata": {
        "colab": {
          "base_uri": "https://localhost:8080/"
        },
        "id": "_qYPlDClxTnA",
        "outputId": "6794ca7a-9857-484d-93cd-64ad94034a0f"
      },
      "source": [
        "from sklearn.ensemble import RandomForestRegressor \r\n",
        "\r\n",
        "model_speed = RandomForestRegressor(n_estimators = 100, random_state = 0) \r\n",
        "model_speed.fit(x, y) "
      ],
      "execution_count": 26,
      "outputs": [
        {
          "output_type": "execute_result",
          "data": {
            "text/plain": [
              "RandomForestRegressor(bootstrap=True, ccp_alpha=0.0, criterion='mse',\n",
              "                      max_depth=None, max_features='auto', max_leaf_nodes=None,\n",
              "                      max_samples=None, min_impurity_decrease=0.0,\n",
              "                      min_impurity_split=None, min_samples_leaf=1,\n",
              "                      min_samples_split=2, min_weight_fraction_leaf=0.0,\n",
              "                      n_estimators=100, n_jobs=None, oob_score=False,\n",
              "                      random_state=0, verbose=0, warm_start=False)"
            ]
          },
          "metadata": {
            "tags": []
          },
          "execution_count": 26
        }
      ]
    },
    {
      "cell_type": "code",
      "metadata": {
        "id": "Ip6_whMMZudK"
      },
      "source": [
        "from sklearn.metrics import mean_squared_error \r\n",
        "\r\n",
        "pred_y = model_speed.predict(x)\r\n",
        "mse =mean_squared_error(y, pred_y)"
      ],
      "execution_count": 27,
      "outputs": []
    },
    {
      "cell_type": "code",
      "metadata": {
        "id": "UBxf_qipacjJ",
        "colab": {
          "base_uri": "https://localhost:8080/"
        },
        "outputId": "97fc9c64-731b-4fd3-ba14-0d6c29a33ddb"
      },
      "source": [
        "rmse = np.sqrt(mse)\r\n",
        "print(\"Root Mean Squared Error:\", rmse)"
      ],
      "execution_count": 28,
      "outputs": [
        {
          "output_type": "stream",
          "text": [
            "Root Mean Squared Error: 1.5298384146346158\n"
          ],
          "name": "stdout"
        }
      ]
    },
    {
      "cell_type": "markdown",
      "metadata": {
        "id": "c1cDMtMZwQX_"
      },
      "source": [
        "#**Test set prediction**"
      ]
    },
    {
      "cell_type": "code",
      "metadata": {
        "id": "IR1Ed9RARKOk"
      },
      "source": [
        "datatest = pd.read_csv(path + 'DRIFT_DATA_TEST_hackathon.csv')\r\n",
        "\r\n",
        "datatest['Uw'] = np.sqrt((datatest['x_EASE']*datatest['x_EASE'])+(datatest['y_EASE']*datatest['y_EASE']))\r\n",
        "datatest['Ua'] = np.sqrt((datatest['u_ERA5']*datatest['u_ERA5'])+(datatest['v_ERA5']*datatest['v_ERA5']))\r\n",
        "datatest['Ui'] = np.sqrt((datatest['u_buoy']*datatest['u_buoy'])+(datatest['v_buoy']*datatest['v_buoy']))\r\n",
        "\r\n",
        "datatest = datatest.drop(columns=['year','month','day','doy','h_cs2smos','id_buoy','u_buoy','v_buoy'])"
      ],
      "execution_count": 29,
      "outputs": []
    },
    {
      "cell_type": "code",
      "metadata": {
        "id": "J28nTxZmwyqP"
      },
      "source": [
        "x = datatest.drop(columns=['Ui'])\r\n",
        "y = datatest['Ui']"
      ],
      "execution_count": 30,
      "outputs": []
    },
    {
      "cell_type": "code",
      "metadata": {
        "id": "NMuG9oemyBu8",
        "colab": {
          "base_uri": "https://localhost:8080/"
        },
        "outputId": "b6946d47-5d1e-4c08-dc0c-bda3c2a28a52"
      },
      "source": [
        "from sklearn.ensemble import RandomForestRegressor \r\n",
        "\r\n",
        "model_speed = RandomForestRegressor(n_estimators = 100, random_state = 0) \r\n",
        "model_speed.fit(x, y) "
      ],
      "execution_count": 31,
      "outputs": [
        {
          "output_type": "execute_result",
          "data": {
            "text/plain": [
              "RandomForestRegressor(bootstrap=True, ccp_alpha=0.0, criterion='mse',\n",
              "                      max_depth=None, max_features='auto', max_leaf_nodes=None,\n",
              "                      max_samples=None, min_impurity_decrease=0.0,\n",
              "                      min_impurity_split=None, min_samples_leaf=1,\n",
              "                      min_samples_split=2, min_weight_fraction_leaf=0.0,\n",
              "                      n_estimators=100, n_jobs=None, oob_score=False,\n",
              "                      random_state=0, verbose=0, warm_start=False)"
            ]
          },
          "metadata": {
            "tags": []
          },
          "execution_count": 31
        }
      ]
    },
    {
      "cell_type": "code",
      "metadata": {
        "id": "VA10QRub0zd2"
      },
      "source": [
        "from sklearn.metrics import mean_squared_error \r\n",
        "\r\n",
        "pred_y = model_speed.predict(x)\r\n",
        "mse =mean_squared_error(y, pred_y)"
      ],
      "execution_count": 32,
      "outputs": []
    },
    {
      "cell_type": "code",
      "metadata": {
        "colab": {
          "base_uri": "https://localhost:8080/"
        },
        "id": "ARjksT9V2ByP",
        "outputId": "606b3723-cfe2-40a5-ae06-d5ebd83417f8"
      },
      "source": [
        "rmse = np.sqrt(mse)\r\n",
        "print(\"Root Mean Squared Error:\", rmse)"
      ],
      "execution_count": 33,
      "outputs": [
        {
          "output_type": "stream",
          "text": [
            "Root Mean Squared Error: 1.6825064063041657\n"
          ],
          "name": "stdout"
        }
      ]
    },
    {
      "cell_type": "code",
      "metadata": {
        "id": "MueEZQtGJd_Y"
      },
      "source": [
        "prediction_vel = model_speed.predict(x)\r\n",
        "np.savetxt(path + \"prediction_velocityrf.csv\",prediction_vel, delimiter=\",\")"
      ],
      "execution_count": 35,
      "outputs": []
    },
    {
      "cell_type": "code",
      "metadata": {
        "id": "bHLpIzS4Jg4N"
      },
      "source": [
        ""
      ],
      "execution_count": null,
      "outputs": []
    }
  ]
}